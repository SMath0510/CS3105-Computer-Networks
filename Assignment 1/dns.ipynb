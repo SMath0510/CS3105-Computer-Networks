{
 "cells": [
  {
   "cell_type": "code",
   "execution_count": 35,
   "metadata": {},
   "outputs": [],
   "source": [
    "ip_type = 4 # Set to 4 or 6 for IPv4 or IPv6"
   ]
  },
  {
   "cell_type": "code",
   "execution_count": 36,
   "metadata": {},
   "outputs": [],
   "source": [
    "# Function to check if the header is valid and extract qr, question count, and answer count\n",
    "def check_header_get_vals (packet):\n",
    "\n",
    "    # Check if packet has at least 24 bytes (header length)\n",
    "    if len(packet) < 24:\n",
    "        return -1\n",
    "\n",
    "    # Extract the flags and answer count\n",
    "    flags = int(packet[4:8], 16)\n",
    "    question_count = int(packet[8:12], 16)\n",
    "    answer_count = int(packet[12:16], 16)\n",
    "\n",
    "    if question_count != 1 or answer_count > 1: # Only 1 question and at most 1 answer\n",
    "        return -1\n",
    "    \n",
    "    qr = (flags & 0x8000) >> 15\n",
    "    opcode = (flags & 0x7800) >> 11\n",
    "    aa = (flags & 0x0400) >> 10\n",
    "    tc = (flags & 0x0200) >> 9\n",
    "    rd = (flags & 0x0100) >> 8\n",
    "    ra = (flags & 0x0080) >> 7\n",
    "    z = (flags & 0x0070) >> 4\n",
    "    rcode = (flags & 0x000F)\n",
    "\n",
    "    if qr == 1 and answer_count == 0: # Response packet with no answers\n",
    "        return -1\n",
    "    \n",
    "    if qr == 0 and answer_count > 0: # Query packet with answers\n",
    "        return -1\n",
    "\n",
    "    if opcode > 2: # opcode = 0, 1, 2\n",
    "        print(\"Invalid data\")\n",
    "        return -1\n",
    "    \n",
    "    if z != 0: # z = 0\n",
    "        return -1\n",
    "    \n",
    "    if rcode > 5: # rcode = 0, 1, 2, 3, 4, 5\n",
    "        return -1\n",
    "    \n",
    "    return qr"
   ]
  },
  {
   "cell_type": "code",
   "execution_count": 37,
   "metadata": {},
   "outputs": [],
   "source": [
    "# Function to extract domain name from the packet\n",
    "def extract_domain_name(packet, start_index):\n",
    "    domain_name = \"\"\n",
    "    index = start_index\n",
    "    length = int(packet[index:index + 2], 16)\n",
    "\n",
    "    if length & 0xC0 == 0xC0:  # Message Compression has been used\n",
    "        offset = (int(packet[index:index + 4], 16) & 0x3FFF) * 2\n",
    "        domain_name, _ = extract_domain_name(packet, offset)\n",
    "        return (domain_name, index + 4)\n",
    "    \n",
    "    if length & 0xC0 != 0x00:  # Invalid length - first 2 bits should be 00 or 11\n",
    "        return (\"Invalid data\", -1)\n",
    "    \n",
    "    if len(packet) < index + 2 + length * 2: # Packet is too short\n",
    "        return (\"Invalid data\", -1)\n",
    "\n",
    "    while length != 0: # 0-length label indicates end of domain name\n",
    "        if len(domain_name) > 0:\n",
    "            domain_name += \".\"\n",
    "        domain_name += (bytes.fromhex(packet[index + 2: index + 2 + length * 2])).decode('utf-8')\n",
    "\n",
    "        index += 2 + length * 2\n",
    "        length = int(packet[index:index + 2], 16)\n",
    "        if len(packet) < index + 2 + length * 2: # Packet is too short\n",
    "            return (\"Invalid data\", -1)\n",
    "\n",
    "    return (domain_name, index + 2)"
   ]
  },
  {
   "cell_type": "code",
   "execution_count": 38,
   "metadata": {},
   "outputs": [],
   "source": [
    "# Converts hex code to IP address\n",
    "def hex_to_ip_address(hex_ip):\n",
    "    ip_address = \"\"\n",
    "    for i in range(0, 2 * ip_type, 2):\n",
    "        ip_address += str(int(hex_ip[i:i + 2], 16))\n",
    "        if i < 2 * ip_type - 2:\n",
    "            ip_address += \".\"\n",
    "    return ip_address\n",
    "\n",
    "\n",
    "# Function to extract IP address from the packet\n",
    "def extract_ip_address(packet, start_index):\n",
    "    if len(packet) < start_index + 2 * ip_type: # Packet is too short\n",
    "        return \"Invalid data\"\n",
    "    return hex_to_ip_address(packet[start_index: start_index + 2 * ip_type])"
   ]
  },
  {
   "cell_type": "code",
   "execution_count": 39,
   "metadata": {},
   "outputs": [],
   "source": [
    "def parse_dns_packet(packet):\n",
    "    \n",
    "    qr = check_header_get_vals(packet)\n",
    "\n",
    "    if qr == -1: # Invalid header\n",
    "        print(\"Invalid data\")\n",
    "        return\n",
    "    \n",
    "    domain_name, ptr = extract_domain_name(packet, 24)\n",
    "    if domain_name == \"Invalid data\":\n",
    "        print(\"Invalid data\")\n",
    "        return\n",
    "    \n",
    "    # Check if it's a query or response packet\n",
    "    if qr == 0:  # Query packet\n",
    "        print(\"Packet Type: Query\")\n",
    "        print(f\"Domain Name: {domain_name}\")\n",
    "\n",
    "    else:  # Response packet\n",
    "        \n",
    "        ptr += 8  # Skip the qtype and qclass fields\n",
    "\n",
    "        answer_domain_name, ptr = extract_domain_name(packet, ptr)\n",
    "        if answer_domain_name != domain_name:\n",
    "            print(\"Invalid data\")\n",
    "            return\n",
    "        \n",
    "        ptr += 20 # Skip the type, class, ttl, and rdlength fields\n",
    "\n",
    "        ip_address = extract_ip_address(packet, ptr)\n",
    "\n",
    "        if ip_address == \"Invalid data\":\n",
    "            print(\"Invalid data\")\n",
    "            return\n",
    "        \n",
    "        print(\"Packet Type: Response\")\n",
    "        print(f\"Domain Name: {domain_name}\")\n",
    "        print(f\"IP Address: {ip_address}\")"
   ]
  },
  {
   "cell_type": "code",
   "execution_count": 40,
   "metadata": {},
   "outputs": [
    {
     "name": "stdout",
     "output_type": "stream",
     "text": [
      "Packet Type: Query\n",
      "Domain Name: timesofindia.indiatimes.com\n"
     ]
    }
   ],
   "source": [
    "packet1 = \"4c76010000010000000000010c74696d65736f66696e6469610a696e64696174696d657303636f6d00000100010000290200000000000000\"\n",
    "parse_dns_packet(packet1)"
   ]
  },
  {
   "cell_type": "code",
   "execution_count": 41,
   "metadata": {},
   "outputs": [
    {
     "name": "stdout",
     "output_type": "stream",
     "text": [
      "Packet Type: Response\n",
      "Domain Name: cse.iitm.ac.in\n",
      "IP Address: 10.6.8.2\n"
     ]
    }
   ],
   "source": [
    "packet2 = \"629f8180000100010000000103637365046969746d02616302696e0000010001c00c0001000100001f9600040a0608020000290200000000000000\"\n",
    "parse_dns_packet(packet2)"
   ]
  },
  {
   "cell_type": "code",
   "execution_count": 42,
   "metadata": {},
   "outputs": [
    {
     "name": "stdout",
     "output_type": "stream",
     "text": [
      "Invalid data\n"
     ]
    }
   ],
   "source": [
    "packet3 = \"00c88b57ec40ec2e98e9046b08004500004b527e40004011802f0a2a52f10a1800c2e36400350037875137920100000100000000000106636c69656e740764726f70626f7803636f6d00000100010000290200000000000000\"\n",
    "parse_dns_packet(packet3)"
   ]
  },
  {
   "cell_type": "code",
   "execution_count": 43,
   "metadata": {},
   "outputs": [
    {
     "name": "stdout",
     "output_type": "stream",
     "text": [
      "Invalid data\n"
     ]
    }
   ],
   "source": [
    "packet4 = \"ec2e98e9046b34e894fa3f5e08004500006b030400003e11f7c4c0a80001c0a80068003581c300577fa37baf818000010001000000010f7a2d7034322d696e7374616772616d046331307209696e7374616772616d03636f6d0000010001c00c000100010000000c00049df017ae0000290200000000000000\"\n",
    "parse_dns_packet(packet4)"
   ]
  },
  {
   "cell_type": "code",
   "execution_count": 44,
   "metadata": {},
   "outputs": [
    {
     "name": "stdout",
     "output_type": "stream",
     "text": [
      "Packet Type: Response\n",
      "Domain Name: fonts.googleapis.com\n",
      "IP Address: 142.250.182.74\n"
     ]
    }
   ],
   "source": [
    "packet5 = \"a0208180000100010000000105666f6e74730a676f6f676c656170697303636f6d0000010001c00c00010001000000ae00048efab64a0000290200000000000000\"\n",
    "parse_dns_packet(packet5)"
   ]
  }
 ],
 "metadata": {
  "kernelspec": {
   "display_name": "Python 3",
   "language": "python",
   "name": "python3"
  },
  "language_info": {
   "codemirror_mode": {
    "name": "ipython",
    "version": 3
   },
   "file_extension": ".py",
   "mimetype": "text/x-python",
   "name": "python",
   "nbconvert_exporter": "python",
   "pygments_lexer": "ipython3",
   "version": "3.11.5"
  }
 },
 "nbformat": 4,
 "nbformat_minor": 2
}
