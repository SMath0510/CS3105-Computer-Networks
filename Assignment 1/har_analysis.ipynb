{
  "cells": [
    {
      "cell_type": "markdown",
      "metadata": {
        "id": "Y1tDz0CilsD-"
      },
      "source": [
        "## Haralyzer Setup\n",
        "\n",
        "Installs haralyzer and prettytable."
      ]
    },
    {
      "cell_type": "code",
      "execution_count": 15,
      "metadata": {
        "colab": {
          "base_uri": "https://localhost:8080/"
        },
        "id": "rJHwjOAxOMWm",
        "outputId": "0f9c67c1-bf5b-4a4c-a2c1-e67125ec84d9"
      },
      "outputs": [
        {
          "name": "stdout",
          "output_type": "stream",
          "text": [
            "Requirement already satisfied: haralyzer in /usr/local/lib/python3.10/dist-packages (2.4.0)\n",
            "Requirement already satisfied: python-dateutil in /usr/local/lib/python3.10/dist-packages (from haralyzer) (2.8.2)\n",
            "Requirement already satisfied: cached-property in /usr/local/lib/python3.10/dist-packages (from haralyzer) (1.5.2)\n",
            "Requirement already satisfied: six>=1.5 in /usr/lib/python3/dist-packages (from python-dateutil->haralyzer) (1.16.0)\n",
            "\u001b[33mWARNING: Running pip as the 'root' user can result in broken permissions and conflicting behaviour with the system package manager. It is recommended to use a virtual environment instead: https://pip.pypa.io/warnings/venv\u001b[0m\u001b[33m\n",
            "\u001b[0mNote: you may need to restart the kernel to use updated packages.\n",
            "Requirement already satisfied: prettytable in /usr/local/lib/python3.10/dist-packages (3.9.0)\n",
            "Requirement already satisfied: wcwidth in /root/.local/lib/python3.10/site-packages (from prettytable) (0.2.13)\n",
            "\u001b[33mWARNING: Running pip as the 'root' user can result in broken permissions and conflicting behaviour with the system package manager. It is recommended to use a virtual environment instead: https://pip.pypa.io/warnings/venv\u001b[0m\u001b[33m\n",
            "\u001b[0mNote: you may need to restart the kernel to use updated packages.\n"
          ]
        }
      ],
      "source": [
        "%pip install haralyzer\n",
        "%pip install prettytable"
      ]
    },
    {
      "cell_type": "code",
      "execution_count": 16,
      "metadata": {
        "id": "_3Bb-y2KlvIt"
      },
      "outputs": [],
      "source": [
        "from haralyzer import HarParser\n",
        "import json\n",
        "from statistics import mean, median\n",
        "from prettytable import PrettyTable"
      ]
    },
    {
      "cell_type": "markdown",
      "metadata": {},
      "source": [
        "## HarFile Analyzer"
      ]
    },
    {
      "cell_type": "code",
      "execution_count": 17,
      "metadata": {},
      "outputs": [],
      "source": [
        "DEBUG = False # Set to True to see debug output"
      ]
    },
    {
      "cell_type": "code",
      "execution_count": 18,
      "metadata": {
        "colab": {
          "background_save": true
        },
        "id": "TTWkxdzrnJP1",
        "outputId": "d3569bc8-a091-4471-8247-25d74b8bbda9"
      },
      "outputs": [],
      "source": [
        "# Extracts data from a HAR file\n",
        "def extract_data(har_file_name):\n",
        "    with open(har_file_name, 'r', encoding='utf-8') as har_file:\n",
        "        har_data = json.load(har_file)\n",
        "\n",
        "    har_parser = HarParser(har_data)\n",
        "    har_data = har_parser.har_data\n",
        "    return har_data"
      ]
    },
    {
      "cell_type": "code",
      "execution_count": 19,
      "metadata": {
        "colab": {
          "background_save": true
        },
        "id": "vWmuVoDToBrQ",
        "outputId": "f46c87fe-2223-4591-897e-af136bcec3f3"
      },
      "outputs": [],
      "source": [
        "# Returns the time to first byte\n",
        "def get_ttfb(har_data):\n",
        "    ttfb = None\n",
        "    skipped = 0\n",
        "    try:\n",
        "        time_frame = har_data[\"pages\"][0]['pageTimings']\n",
        "        ttfb = time_frame['onContentLoad']\n",
        "    except:\n",
        "        skipped += 1\n",
        "    if DEBUG: print(f\"Not Compatible : {skipped}\")\n",
        "    return ttfb\n"
      ]
    },
    {
      "cell_type": "code",
      "execution_count": 20,
      "metadata": {},
      "outputs": [],
      "source": [
        "# Returns the page load time\n",
        "def get_page_load_time(har_data):\n",
        "    page_load_time = None\n",
        "    skipped = 0\n",
        "    try:\n",
        "        time_frame = har_data[\"pages\"][0]['pageTimings']\n",
        "        page_load_time = time_frame['onLoad']\n",
        "    except:\n",
        "        skipped += 1\n",
        "    if DEBUG: print(f\"Not Compatible : {skipped}\")\n",
        "    return page_load_time"
      ]
    },
    {
      "cell_type": "code",
      "execution_count": 21,
      "metadata": {
        "id": "PcZLX4hCodT2"
      },
      "outputs": [],
      "source": [
        "# Returns number of GET requests\n",
        "def request_stats(har_data):\n",
        "    num_get_requests = 0\n",
        "    skipped = 0\n",
        "    for entries in har_data[\"entries\"]:\n",
        "        try:\n",
        "            request = entries[\"request\"]\n",
        "            request_method = request[\"method\"]\n",
        "            if(request_method == \"GET\"): num_get_requests += 1\n",
        "        except:\n",
        "            skipped += 1\n",
        "    if DEBUG: print(f\"Not Compatible : {skipped}\")\n",
        "    return num_get_requests\n"
      ]
    },
    {
      "cell_type": "code",
      "execution_count": 22,
      "metadata": {},
      "outputs": [],
      "source": [
        "# Returns set of MIME types observed\n",
        "def get_mime_types(har_data):\n",
        "    mime_types = set()\n",
        "    skipped = 0\n",
        "    for entries in har_data[\"entries\"]:\n",
        "        try:\n",
        "            response_content = entries[\"response\"][\"content\"]\n",
        "            mime_type = response_content[\"mimeType\"]\n",
        "            mime_types.add(mime_type)\n",
        "        except:\n",
        "            skipped += 1\n",
        "    if DEBUG: print(f\"Not Compatible : {skipped}\")\n",
        "    return mime_types"
      ]
    },
    {
      "cell_type": "code",
      "execution_count": 23,
      "metadata": {},
      "outputs": [],
      "source": [
        "# Returns the mean, median and total size of images\n",
        "def analyze_image_data(har_data):\n",
        "    image_sizes = []\n",
        "    skipped = 0\n",
        "    for entries in har_data[\"entries\"]:\n",
        "        try:\n",
        "            response = entries[\"response\"]\n",
        "            response_content = response[\"content\"]\n",
        "            response_size = response_content[\"size\"]\n",
        "            mime_type = response_content[\"mimeType\"]\n",
        "            type_list = (mime_type.split('/'))\n",
        "            if 'image' in type_list:\n",
        "                image_sizes.append(response_size)\n",
        "        except:\n",
        "            skipped += 1\n",
        "    if DEBUG: print(f\"Not Compatible : {skipped}\")\n",
        "    mean_image_size = mean(image_sizes)\n",
        "    median_image_size = median(image_sizes)\n",
        "    total_image_size = sum(image_sizes)\n",
        "    return mean_image_size, median_image_size, total_image_size"
      ]
    },
    {
      "cell_type": "code",
      "execution_count": 24,
      "metadata": {},
      "outputs": [],
      "source": [
        "# Returns the mean, median and total size of all the entries\n",
        "def response_stats(har_data):\n",
        "    keys = ['image', 'html', 'css', 'javascript']\n",
        "    count_map = {}\n",
        "    size_map = {}\n",
        "    for val in keys:\n",
        "        count_map[val] = 0\n",
        "        size_map[val] = 0 \n",
        "        \n",
        "    total_size = 0\n",
        "    skipped = 0\n",
        "    for entries in har_data[\"entries\"]:\n",
        "        try:\n",
        "            response = entries[\"response\"]\n",
        "            response_content = response[\"content\"]\n",
        "            response_size = response_content[\"size\"]\n",
        "            total_size += response_size\n",
        "            mime_type = response_content[\"mimeType\"]\n",
        "            type_list = (mime_type.split('/'))\n",
        "            for key in type_list:\n",
        "                if key in count_map:\n",
        "                    count_map[key] += 1\n",
        "                if key in size_map:\n",
        "                    size_map[key] += response_size\n",
        "        except:\n",
        "            skipped += 1\n",
        "    if DEBUG: print(f\"Not Compatible : {skipped}\")\n",
        "    return count_map, size_map, total_size"
      ]
    },
    {
      "cell_type": "code",
      "execution_count": 25,
      "metadata": {},
      "outputs": [],
      "source": [
        "# HAR files and their respective paths\n",
        "har_files = {\n",
        "    'decaan.har': 'pcapture/websites/har_files_full/decaan.har',\n",
        "    'jagran.har': 'pcapture/websites/har_files_full/jagran.har',\n",
        "    'mit.har': 'pcapture/websites/har_files_full/mit.har',\n",
        "    'sinu.har': 'pcapture/websites/har_files_full/sinu.har',\n",
        "    'usach.har': 'pcapture/websites/har_files_full/usach.har'\n",
        "}"
      ]
    },
    {
      "cell_type": "code",
      "execution_count": 26,
      "metadata": {},
      "outputs": [],
      "source": [
        "har_analysis = {}\n",
        "for file_name, _ in har_files.items():\n",
        "    har_analysis[file_name] = {}\n"
      ]
    },
    {
      "cell_type": "code",
      "execution_count": 27,
      "metadata": {},
      "outputs": [],
      "source": [
        "for file_name, file in har_files.items(): # iterating over all the har files\n",
        "    har_data = extract_data(file)\n",
        "\n",
        "    ## TTFB and Page Load Time\n",
        "    ttfb = get_ttfb(har_data)\n",
        "    page_load_time = get_page_load_time(har_data)\n",
        "\n",
        "    ## GET Requests\n",
        "    num_get_requests = request_stats(har_data)\n",
        "\n",
        "    ## Mime Types\n",
        "    mime_types = get_mime_types(har_data)\n",
        "\n",
        "    ## Response Stats\n",
        "    count_map, size_map, total_size = response_stats(har_data)\n",
        "    \n",
        "    ## Image Data Analysis\n",
        "    mean_image_size, median_image_size, total_image_size = analyze_image_data(har_data)\n",
        "    \n",
        "    har_analysis[file_name]['ttfb'] = ttfb\n",
        "    har_analysis[file_name]['page_load_time'] = page_load_time\n",
        "    har_analysis[file_name]['total_get_request'] = num_get_requests\n",
        "    har_analysis[file_name]['fraction_get_image'] = count_map['image'] / num_get_requests\n",
        "    har_analysis[file_name]['fraction_get_javascript'] = count_map['javascript'] / num_get_requests\n",
        "    har_analysis[file_name]['fraction_get_htmlcss'] = (count_map['html'] + count_map['css']) / num_get_requests\n",
        "    har_analysis[file_name]['total_size'] = total_size\n",
        "    har_analysis[file_name]['size_fraction_image'] = total_image_size / total_size\n",
        "    har_analysis[file_name]['mean_image_size'] = mean_image_size\n",
        "    har_analysis[file_name]['median_image_size'] = median_image_size"
      ]
    },
    {
      "cell_type": "code",
      "execution_count": 28,
      "metadata": {},
      "outputs": [
        {
          "name": "stdout",
          "output_type": "stream",
          "text": [
            "+------------+--------------------+--------------------+--------------------+---------------------+-------------------------+-----------------------+------------+---------------------+--------------------+-------------------+\n",
            "| File Name  |        TTFB        |   Page Load Time   | Total GET Requests |  Fraction GET Image | Fraction GET JavaScript | Fraction GET HTML/CSS | Total Size | Size Fraction Image |  Mean Image Size   | Median Image Size |\n",
            "+------------+--------------------+--------------------+--------------------+---------------------+-------------------------+-----------------------+------------+---------------------+--------------------+-------------------+\n",
            "| decaan.har | 3185.747999988962  | 8241.801000025589  |        252         | 0.42063492063492064 |   0.25396825396825395   |  0.13095238095238096  |  13494632  | 0.21352045761603577 | 27182.830188679247 |      13030.0      |\n",
            "| jagran.har | 939.9790000170469  | 14006.684000021778 |        481         | 0.38253638253638256 |   0.28482328482328484   |  0.15384615384615385  |  34199813  |  0.3255868387350539 | 60516.35326086957  |      41641.5      |\n",
            "|  mit.har   | 1188.2369999657385 | 2197.2720000194386 |         38         |  0.2631578947368421 |   0.34210526315789475   |  0.23684210526315788  |  3323180   | 0.21625852346246668 |      71866.6       |      49476.0      |\n",
            "|  sinu.har  | 6231.679999968037  | 6804.973999969661  |         57         | 0.05263157894736842 |    0.2807017543859649   |  0.47368421052631576  |  4271824   | 0.19996376255201526 | 284736.6666666667  |       42771       |\n",
            "| usach.har  | 10039.512999996077 |  26561.847999983   |        194         | 0.29896907216494845 |    0.3402061855670103   |  0.30412371134020616  |  26778544  |  0.533843475582541  | 246475.0172413793  |       9145.0      |\n",
            "+------------+--------------------+--------------------+--------------------+---------------------+-------------------------+-----------------------+------------+---------------------+--------------------+-------------------+\n"
          ]
        }
      ],
      "source": [
        "table = PrettyTable()\n",
        "\n",
        "# Define table headers\n",
        "table.field_names = [\"File Name\", \"TTFB\", \"Page Load Time\", \"Total GET Requests\",\n",
        "                \"Fraction GET Image\", \"Fraction GET JavaScript\",\n",
        "                \"Fraction GET HTML/CSS\", \"Total Size\", \"Size Fraction Image\",\n",
        "                \"Mean Image Size\", \"Median Image Size\"]\n",
        "\n",
        "# Add data to the table\n",
        "for file_name, data in har_analysis.items():\n",
        "    table.add_row([file_name, data['ttfb'], data['page_load_time'], data['total_get_request'],\n",
        "                data['fraction_get_image'], data['fraction_get_javascript'],\n",
        "                data['fraction_get_htmlcss'], data['total_size'], data['size_fraction_image'],\n",
        "                data['mean_image_size'], data['median_image_size']])\n",
        "\n",
        "# Print the table\n",
        "print(table)"
      ]
    },
    {
      "cell_type": "code",
      "execution_count": null,
      "metadata": {},
      "outputs": [],
      "source": []
    },
    {
      "cell_type": "code",
      "execution_count": null,
      "metadata": {},
      "outputs": [],
      "source": []
    }
  ],
  "metadata": {
    "colab": {
      "provenance": []
    },
    "kernelspec": {
      "display_name": "Python 3",
      "name": "python3"
    },
    "language_info": {
      "codemirror_mode": {
        "name": "ipython",
        "version": 3
      },
      "file_extension": ".py",
      "mimetype": "text/x-python",
      "name": "python",
      "nbconvert_exporter": "python",
      "pygments_lexer": "ipython3",
      "version": "3.10.12"
    }
  },
  "nbformat": 4,
  "nbformat_minor": 0
}
